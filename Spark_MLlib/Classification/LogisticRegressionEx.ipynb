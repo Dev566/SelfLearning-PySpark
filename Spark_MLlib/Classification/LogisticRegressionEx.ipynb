{
 "cells": [
  {
   "cell_type": "code",
   "execution_count": 1,
   "metadata": {},
   "outputs": [],
   "source": [
    "import findspark\n",
    "findspark.init('/home/ubuntu/spark-2.1.1-bin-hadoop2.7')\n",
    "import pyspark\n",
    "from pyspark.sql import SparkSession\n",
    "spark = SparkSession.builder.appName('logRegCode').getOrCreate()"
   ]
  },
  {
   "cell_type": "code",
   "execution_count": 2,
   "metadata": {},
   "outputs": [],
   "source": [
    "from pyspark.ml.classification import LogisticRegression"
   ]
  },
  {
   "cell_type": "code",
   "execution_count": 3,
   "metadata": {},
   "outputs": [],
   "source": [
    "data = spark.read.format('libsvm').load('sample_libsvm_data.txt')"
   ]
  },
  {
   "cell_type": "code",
   "execution_count": 4,
   "metadata": {},
   "outputs": [
    {
     "name": "stdout",
     "output_type": "stream",
     "text": [
      "root\n",
      " |-- label: double (nullable = true)\n",
      " |-- features: vector (nullable = true)\n",
      "\n"
     ]
    }
   ],
   "source": [
    "data.printSchema()"
   ]
  },
  {
   "cell_type": "code",
   "execution_count": 5,
   "metadata": {},
   "outputs": [],
   "source": [
    "log_reg = LogisticRegression()"
   ]
  },
  {
   "cell_type": "code",
   "execution_count": 6,
   "metadata": {},
   "outputs": [],
   "source": [
    "train_data, test_data = data.randomSplit([0.7,0.3])"
   ]
  },
  {
   "cell_type": "code",
   "execution_count": 7,
   "metadata": {},
   "outputs": [],
   "source": [
    "log_model=log_reg.fit(train_data)"
   ]
  },
  {
   "cell_type": "code",
   "execution_count": 8,
   "metadata": {},
   "outputs": [],
   "source": [
    "log_test_result = log_model.evaluate(test_data)"
   ]
  },
  {
   "cell_type": "code",
   "execution_count": 9,
   "metadata": {},
   "outputs": [
    {
     "name": "stdout",
     "output_type": "stream",
     "text": [
      "+-----+--------------------+--------------------+--------------------+----------+\n",
      "|label|            features|       rawPrediction|         probability|prediction|\n",
      "+-----+--------------------+--------------------+--------------------+----------+\n",
      "|  0.0|(692,[100,101,102...|[9.51809681204881...|[0.99992649596966...|       0.0|\n",
      "|  0.0|(692,[124,125,126...|[20.0667577174755...|[0.99999999807195...|       0.0|\n",
      "|  0.0|(692,[127,128,129...|[23.4406918451847...|[0.99999999993395...|       0.0|\n",
      "|  0.0|(692,[129,130,131...|[15.8913887095933...|[0.99999987455379...|       0.0|\n",
      "|  0.0|(692,[152,153,154...|[20.0244533126977...|[0.99999999798863...|       0.0|\n",
      "|  0.0|(692,[154,155,156...|[18.8338979373018...|[0.99999999338481...|       0.0|\n",
      "|  0.0|(692,[154,155,156...|[15.3513972976621...|[0.99999978473532...|       0.0|\n",
      "|  0.0|(692,[181,182,183...|[16.6613938060951...|[0.99999994191706...|       0.0|\n",
      "|  1.0|(692,[100,101,102...|[-34.599659067122...|[9.40933630961593...|       1.0|\n",
      "|  1.0|(692,[123,124,125...|[-16.148922269907...|[9.69643582321043...|       1.0|\n",
      "|  1.0|(692,[124,125,126...|[-22.076666066083...|[2.58360281204897...|       1.0|\n",
      "|  1.0|(692,[124,125,126...|[-22.097179744391...|[2.53114352121626...|       1.0|\n",
      "|  1.0|(692,[125,126,153...|[-21.940742547060...|[2.95976058785637...|       1.0|\n",
      "|  1.0|(692,[126,127,128...|[-31.675578851925...|[1.75174502805535...|       1.0|\n",
      "|  1.0|(692,[126,127,128...|[-31.268373544409...|[2.63219410148183...|       1.0|\n",
      "|  1.0|(692,[127,128,154...|[-14.985507104951...|[3.10367916640117...|       1.0|\n",
      "|  1.0|(692,[127,128,155...|[-23.726611686969...|[4.96207666669780...|       1.0|\n",
      "|  1.0|(692,[128,129,130...|[-22.957341228557...|[1.07091101410400...|       1.0|\n",
      "|  1.0|(692,[128,129,155...|[-20.864942522404...|[8.6790181565394E...|       1.0|\n",
      "|  1.0|(692,[129,130,131...|[-19.636036567192...|[2.96604455876620...|       1.0|\n",
      "+-----+--------------------+--------------------+--------------------+----------+\n",
      "only showing top 20 rows\n",
      "\n"
     ]
    }
   ],
   "source": [
    "log_test_result.predictions.show()"
   ]
  },
  {
   "cell_type": "code",
   "execution_count": 10,
   "metadata": {},
   "outputs": [],
   "source": [
    "from pyspark.ml.evaluation import BinaryClassificationEvaluator,MulticlassClassificationEvaluator"
   ]
  },
  {
   "cell_type": "code",
   "execution_count": 11,
   "metadata": {},
   "outputs": [],
   "source": [
    "myBinary_eval =BinaryClassificationEvaluator()#we have default rawPrediction and label column"
   ]
  },
  {
   "cell_type": "code",
   "execution_count": 13,
   "metadata": {},
   "outputs": [
    {
     "data": {
      "text/plain": [
       "1.0"
      ]
     },
     "execution_count": 13,
     "metadata": {},
     "output_type": "execute_result"
    }
   ],
   "source": [
    "myBinary_eval.evaluate(log_test_result.predictions)#more like accuracy or area under the curve.. perfect fit"
   ]
  },
  {
   "cell_type": "code",
   "execution_count": null,
   "metadata": {},
   "outputs": [],
   "source": []
  }
 ],
 "metadata": {
  "kernelspec": {
   "display_name": "Python 3",
   "language": "python",
   "name": "python3"
  },
  "language_info": {
   "codemirror_mode": {
    "name": "ipython",
    "version": 3
   },
   "file_extension": ".py",
   "mimetype": "text/x-python",
   "name": "python",
   "nbconvert_exporter": "python",
   "pygments_lexer": "ipython3",
   "version": "3.5.2"
  }
 },
 "nbformat": 4,
 "nbformat_minor": 2
}
